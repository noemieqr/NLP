{
 "cells": [
  {
   "cell_type": "code",
   "execution_count": 6,
   "metadata": {
    "collapsed": true
   },
   "outputs": [],
   "source": [
    "from __future__ import division\n",
    "import argparse\n",
    "import pandas as pd\n",
    "\n",
    "# useful stuff\n",
    "import numpy as np\n",
    "from scipy.special import expit\n",
    "from sklearn.preprocessing import normalize"
   ]
  },
  {
   "cell_type": "code",
   "execution_count": 2,
   "metadata": {
    "collapsed": true
   },
   "outputs": [],
   "source": [
    "__authors__ = ['Rafaelle Aygalenq','Sarah Lina Hammoutene','Dora Linda Kocsis','Noémie Quéré']\n",
    "__emails__  = ['b00724587@essec.edu','b00712035@essec.edu','b00714326@essec.edu','b00719656@essec.edu']"
   ]
  },
  {
   "cell_type": "code",
   "execution_count": 8,
   "metadata": {},
   "outputs": [
    {
     "name": "stderr",
     "output_type": "stream",
     "text": [
      "usage: ipykernel_launcher.py [-h] --text TEXT --model MODEL [--test]\n",
      "ipykernel_launcher.py: error: the following arguments are required: --text, --model\n"
     ]
    },
    {
     "ename": "SystemExit",
     "evalue": "2",
     "output_type": "error",
     "traceback": [
      "An exception has occurred, use %tb to see the full traceback.\n",
      "\u001b[1;31mSystemExit\u001b[0m\u001b[1;31m:\u001b[0m 2\n"
     ]
    },
    {
     "name": "stderr",
     "output_type": "stream",
     "text": [
      "C:\\Users\\dorak\\AppData\\Local\\conda\\conda\\envs\\my_root\\lib\\site-packages\\IPython\\core\\interactiveshell.py:2870: UserWarning: To exit: use 'exit', 'quit', or Ctrl-D.\n",
      "  warn(\"To exit: use 'exit', 'quit', or Ctrl-D.\", stacklevel=1)\n"
     ]
    }
   ],
   "source": [
    "def text2sentences(path):\n",
    "    # feel free to make a better tokenization/pre-processing\n",
    "    sentences = []\n",
    "    with open(path) as f:\n",
    "        for l in f:\n",
    "            sentences.append( l.lower().split() )\n",
    "    return sentences\n",
    "\n",
    "def loadPairs(path):\n",
    "    data = pd.read_csv(path,delimiter='\\t')\n",
    "    pairs = zip(data['word1'],data['word2'],data['similarity'])\n",
    "    return pairs\n",
    "\n",
    "\n",
    "class mySkipGram:\n",
    "    def __init__(self,sentences, nEmbed=100, negativeRate=5, winSize = 5, minCount = 5):\n",
    "        raise NotImplementedError('implement it!')\n",
    "\n",
    "    def train(self,stepsize, epochs):\n",
    "        raise NotImplementedError('implement it!')\n",
    "\n",
    "    def save(self,path):\n",
    "        raise NotImplementedError('implement it!')\n",
    "\n",
    "    def similarity(self,word1,word2):\n",
    "        \"\"\"\n",
    "        computes similiarity between the two words. unknown words are mapped to one common vector\n",
    "        :param word1:\n",
    "        :param word2:\n",
    "        :return: a float \\in [0,1] indicating the similarity (the higher the more similar)\n",
    "        \"\"\"\n",
    "        return dot(normalize(self[word1], norm='l2'), normalize(self[word1], norm='l2'))\n",
    "\n",
    "    @staticmethod\n",
    "    def load(path):\n",
    "        raise NotImplementedError('implement it!')\n",
    "\n",
    "if __name__ == '__main__':\n",
    "\n",
    "    parser = argparse.ArgumentParser()\n",
    "    parser.add_argument('--text', help='path containing training data', required=True)\n",
    "    parser.add_argument('--model', help='path to store/read model (when training/testing)', required=True)\n",
    "    parser.add_argument('--test', help='enters test mode', action='store_true')\n",
    "\n",
    "    opts = parser.parse_args()\n",
    "\n",
    "    if not opts.test:\n",
    "        sentences = text2sentences(opts.text)\n",
    "        sg = mySkipGram(sentences)\n",
    "        sg.train()\n",
    "        sg.save(opts.model)\n",
    "\n",
    "    else:\n",
    "        pairs = loadPairs(opts.text)\n",
    "\n",
    "        sg = mySkipGram.load(opts.model)\n",
    "        for a,b,_ in pairs:\n",
    "            print(sg.similarity(a,b))"
   ]
  },
  {
   "cell_type": "code",
   "execution_count": 4,
   "metadata": {},
   "outputs": [
    {
     "ename": "ModuleNotFoundError",
     "evalue": "No module named 'spacy'",
     "output_type": "error",
     "traceback": [
      "\u001b[1;31m---------------------------------------------------------------------------\u001b[0m",
      "\u001b[1;31mModuleNotFoundError\u001b[0m                       Traceback (most recent call last)",
      "\u001b[1;32m<ipython-input-4-003465880421>\u001b[0m in \u001b[0;36m<module>\u001b[1;34m()\u001b[0m\n\u001b[0;32m     42\u001b[0m \u001b[1;33m\u001b[0m\u001b[0m\n\u001b[0;32m     43\u001b[0m \u001b[1;32mimport\u001b[0m \u001b[0mos\u001b[0m\u001b[1;33m,\u001b[0m\u001b[0mcodecs\u001b[0m\u001b[1;33m\u001b[0m\u001b[0m\n\u001b[1;32m---> 44\u001b[1;33m \u001b[1;32mimport\u001b[0m \u001b[0mspacy\u001b[0m\u001b[1;33m\u001b[0m\u001b[0m\n\u001b[0m\u001b[0;32m     45\u001b[0m \u001b[1;33m\u001b[0m\u001b[0m\n\u001b[0;32m     46\u001b[0m \u001b[1;32mdef\u001b[0m \u001b[0mload\u001b[0m\u001b[1;33m(\u001b[0m\u001b[0mpath\u001b[0m\u001b[1;33m=\u001b[0m\u001b[1;34m'/nfs/team/nlp/data/TrumpSpeeches/data/'\u001b[0m\u001b[1;33m)\u001b[0m\u001b[1;33m:\u001b[0m\u001b[1;33m\u001b[0m\u001b[0m\n",
      "\u001b[1;31mModuleNotFoundError\u001b[0m: No module named 'spacy'"
     ]
    }
   ],
   "source": [
    "from collections import defaultdict\n",
    "import numpy as np\n",
    "\n",
    "\n",
    "stToken = '<START>'\n",
    "endToken = '<END>'\n",
    "class LangModel:\n",
    "\n",
    "    def __init__(self,n):\n",
    "        \"\"\" n is size of context\"\"\"\n",
    "        self.n = n\n",
    "        self.count = {}\n",
    "\n",
    "    def train(self,sequences):\n",
    "        \"\"\" max likelihood estimation \"\"\"\n",
    "        for sequence in sequences:\n",
    "            seq = tuple([stToken]*self.n + sequence + [endToken])\n",
    "            for i in xrange(0,len(seq)-self.n):\n",
    "                ctxt = seq[i:i+self.n]\n",
    "                if ctxt not in self.count:\n",
    "                    self.count[ctxt] = defaultdict(int)\n",
    "                self.count[ctxt] [ seq[i+self.n]] += 1\n",
    "        ctxts = self.count.keys()\n",
    "        for ctxt in ctxts:\n",
    "            options = self.count[ctxt]\n",
    "            norm = float(sum(options.values()))\n",
    "            self.count[ctxt] = dict((k,v/norm) for k,v in options.iteritems())\n",
    "    def initCtxt(self):\n",
    "        return (stToken,)*self.n\n",
    "\n",
    "\n",
    "    def sample(self):\n",
    "        ctxt = self.initCtxt()\n",
    "        nextToken = None\n",
    "        while nextToken != endToken:\n",
    "            options = self.count[ctxt]\n",
    "\n",
    "            nextToken = np.random.choice(options.keys(),size=1,p=options.values())[0]\n",
    "            yield nextToken\n",
    "            ctxt = ctxt[1:] + (nextToken,)\n",
    "\n",
    "\n",
    "import os,codecs\n",
    "import spacy\n",
    "\n",
    "def load(path='/nfs/team/nlp/data/TrumpSpeeches/data/'):\n",
    "    nlp = spacy.load('en')\n",
    "    sentences = []\n",
    "    for filename in os.listdir(path):\n",
    "        if filename.endswith('.txt'):\n",
    "            with codecs.open(os.path.join(path,filename),encoding='utf-8') as f:\n",
    "                f.readline() #ignore first line\n",
    "                doc = nlp(f.readline())\n",
    "                for sent in doc.sents:\n",
    "                    sentences.append( [token.text for token in sent] )\n",
    "    return sentences\n"
   ]
  }
 ],
 "metadata": {
  "kernelspec": {
   "display_name": "Python 3",
   "language": "python",
   "name": "python3"
  },
  "language_info": {
   "codemirror_mode": {
    "name": "ipython",
    "version": 3
   },
   "file_extension": ".py",
   "mimetype": "text/x-python",
   "name": "python",
   "nbconvert_exporter": "python",
   "pygments_lexer": "ipython3",
   "version": "3.6.3"
  }
 },
 "nbformat": 4,
 "nbformat_minor": 2
}
